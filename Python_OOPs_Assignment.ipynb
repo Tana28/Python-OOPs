{
  "nbformat": 4,
  "nbformat_minor": 0,
  "metadata": {
    "colab": {
      "provenance": []
    },
    "kernelspec": {
      "name": "python3",
      "display_name": "Python 3"
    },
    "language_info": {
      "name": "python"
    }
  },
  "cells": [
    {
      "cell_type": "markdown",
      "source": [
        "#Python OOPs Questions"
      ],
      "metadata": {
        "id": "vG0i3CVByrCv"
      }
    },
    {
      "cell_type": "markdown",
      "source": [
        "Q1) What is Object-Oriented Programming (OOP)?\n",
        "\n",
        "A1) Object-Oriented Programming (OOP) is a programming paradigm that organizes software design around objects rather than functions or logic. These objects are instances of classes, which act as templates that define the structure and behavior of data.\n",
        "\n",
        "OOP focuses on combining data and the functions that operate on that data into a single unit, known as an object. This makes the code more modular and easier to understand.\n",
        "\n",
        "#Main Concepts of OOP\n",
        "\n",
        "**Class:**\n",
        "A blueprint or template used to create objects. It defines attributes (variables) and behaviors (methods).\n",
        "\n",
        "**Object:**\n",
        "An instance of a class that holds actual values and uses the class-defined methods.\n",
        "\n",
        "**Encapsulation:**\n",
        "The process of hiding the internal details of an object and protecting its data from unauthorized access.\n",
        "\n",
        "**Inheritance:**\n",
        "A mechanism that allows one class to inherit properties and methods from another class, supporting code reuse.\n",
        "\n",
        "**Polymorphism:**\n",
        "The ability of a method to perform different tasks based on the object that is calling it.\n",
        "\n",
        "**Abstraction:**\n",
        "The concept of hiding complex details and showing only the essential features of an object.\n",
        "\n",
        "#**Conclusion:**\n",
        "\n",
        "OOP is a powerful approach that simplifies software development by modeling real-world entities through classes and objects. It is widely used in languages such as Python, Java, and C++."
      ],
      "metadata": {
        "id": "hFxWRxKQywTW"
      }
    },
    {
      "cell_type": "markdown",
      "source": [
        "Q2) What is a class in OOP?\n",
        "\n",
        "A2) In Object-Oriented Programming (OOP), a class is a template or blueprint used to create objects. It defines the attributes (data) and methods (functions) that its objects will have.\n",
        "\n",
        "A class does not store actual data but describes how the data and behavior should be structured. Objects created from a class are called instances."
      ],
      "metadata": {
        "id": "88hd2QkV15TH"
      }
    },
    {
      "cell_type": "markdown",
      "source": [
        "Q3) What is an object in OOP ?\n",
        "\n",
        "A3) An object in Object-Oriented Programming (OOP) is an instance of a class. It represents a real-world entity and contains both data (attributes) and functions (methods) that operate on that data.\n",
        "\n",
        "Objects are created based on a class and can store individual values in their attributes. Each object has a unique identity, a specific state (data), and defined behavior (methods). Objects help in modeling real-life things such as a car, student, employee, etc., in a program.\n",
        "\n",
        "For example, if Car is a class, then my_car = Car(\"Honda\", \"Red\") is an object of that class.\n",
        "\n",
        "Objects are the core building blocks of OOP and allow for modular, reusable, and organized programming."
      ],
      "metadata": {
        "id": "2GUqawUDBr0p"
      }
    },
    {
      "cell_type": "markdown",
      "source": [
        "Q4) What is the difference between abstraction and encapsulation ?\n",
        "\n",
        "A4) Abstraction and Encapsulation are two fundamental concepts of Object-Oriented Programming (OOP), but they serve different purposes.\n",
        "\n",
        "#Abstraction\n",
        "\n",
        "* Hides unnecessary implementation details and shows only the essential features.\n",
        "\n",
        "* Helps to reduce complexity in the program.\n",
        "\n",
        "* Focuses on what an object does.\n",
        "\n",
        "* Achieved using abstract classes, interfaces, or abstract methods.\n",
        "\n",
        "* Example: Using a mobile phone without knowing its internal circuits.\n",
        "\n",
        "#Encapsulation\n",
        "\n",
        "* Hides the internal data of an object and restricts direct access.\n",
        "\n",
        "* Helps to protect data and ensure security.\n",
        "\n",
        "* Focuses on how the data is stored and accessed.\n",
        "\n",
        "* Achieved using classes, private/public access modifiers, and getter/setter methods.\n",
        "\n",
        "* Example: Bank account details hidden inside a class and accessed only through methods."
      ],
      "metadata": {
        "id": "18eMrS6tCoX2"
      }
    },
    {
      "cell_type": "markdown",
      "source": [
        "Q5) What are dunder methods in Python?\n",
        "\n",
        "A5) In Python, dunder methods (short for double underscore methods) are special methods that start and end with double underscores, like __init__, __str__, and __len__. They are also called magic methods.\n",
        "\n",
        "Dunder methods are automatically called by Python to perform specific built-in operations. For example:\n",
        "\n",
        "* __init__() is called when an object is created (like a constructor).\n",
        "\n",
        "* __str__() is called when the object is printed.\n",
        "\n",
        "* __add__() defines behavior for the + operator.\n",
        "\n",
        "* __len__() is used with the len() function.\n",
        "\n",
        "These methods allow programmers to customize how objects behave with operators, functions, and other built-in features. They help make classes more powerful and flexible."
      ],
      "metadata": {
        "id": "NU5t__v6Dzdl"
      }
    },
    {
      "cell_type": "markdown",
      "source": [
        "Q6) Explain the concept of inheritance in OOP ?\n",
        "\n",
        "A6) Inheritance is a fundamental concept in Object-Oriented Programming (OOP). It is the process by which one class (called the child class or subclass) can acquire the properties and behaviors (methods and attributes) of another class (called the parent class or superclass).\n",
        "\n",
        "The main purpose of inheritance is to promote code reusability and to establish a relationship between classes. Instead of writing the same code multiple times, a child class can reuse the functionality of the parent class and also add its own features.\n",
        "\n",
        "Inheritance also supports the creation of a class hierarchy, making programs easier to manage and extend.\n",
        "\n",
        "For example, if there is a parent class Animal with a method make_sound(), a child class Dog can inherit this method and also define its own method bark().\n",
        "\n",
        "Thus, inheritance helps in organizing and structuring the code efficiently by modeling real-world relationships."
      ],
      "metadata": {
        "id": "uqrOm0FsFYi2"
      }
    },
    {
      "cell_type": "markdown",
      "source": [
        "Q7) What is polymorphism in OOP ?\n",
        "\n",
        "A7) Polymorphism is a core concept in Object-Oriented Programming (OOP) that means “many forms.” It allows objects of different classes to be treated as objects of a common parent class, while still behaving differently based on their own implementation.\n",
        "\n",
        "Polymorphism enables the same method name to perform different tasks depending on the object that is calling it. This makes programs more flexible and easier to extend.\n",
        "\n",
        "*There are two main types of polymorphism:*\n",
        "\n",
        "1. Compile-time (Static) Polymorphism: Achieved through method overloading (not supported directly in Python).\n",
        "\n",
        "2. Run-time (Dynamic) Polymorphism – Achieved through method overriding, where a subclass provides a specific implementation of a method defined in its superclass.\n",
        "\n",
        "For example, a Dog and a Cat class may both have a method called make_sound(), but each will implement it differently. When called, the method behaves according to the object type.\n",
        "\n",
        "Polymorphism helps in writing generic code, improves code reusability, and supports the principle of “one interface, many implementations.”"
      ],
      "metadata": {
        "id": "lNTUZq_WHKVp"
      }
    },
    {
      "cell_type": "markdown",
      "source": [
        " Q8) How is encapsulation achieved in Python?\n",
        "\n",
        " A8) Encapsulation is a key concept in Object-Oriented Programming (OOP) that refers to **binding data and methods** together into a single unit (class) and **restricting direct access** to the internal details of an object.\n",
        "\n",
        "In Python, encapsulation is achieved using **classes** and **access modifiers.** Python uses a **naming convention** to indicate the level of access:\n",
        "\n",
        "* **Public members:** Can be accessed from anywhere.\n",
        "\n",
        "* **Protected members:** Indicated by a single underscore _, meant to be accessed only within the class and its subclasses (by convention).\n",
        "\n",
        "* **Private members:** Indicated by a double underscore __, they are name-mangled and cannot be accessed directly from outside the class.\n",
        "\n",
        "Additionally, Python uses **getter and setter methods** to control access to private variables. This helps ensure **data protection** and allows controlled modification of internal data.\n",
        "\n",
        "Encapsulation helps in achieving **data hiding, security,** and **better control** over how data is accessed or modified within a class."
      ],
      "metadata": {
        "id": "s8zlCJUfIP1S"
      }
    },
    {
      "cell_type": "markdown",
      "source": [
        "Q8) How is encapsulation achieved in Python?\n",
        "\n",
        "A8) Encapsulation is a fundamental concept in Object-Oriented Programming (OOP) that involves hiding the internal details of an object and restricting direct access to its data. In Python, encapsulation is achieved using classes and access modifiers.\n",
        "\n",
        "*Python uses naming conventions to indicate access control:*\n",
        "\n",
        "* Public members have no underscores and can be accessed from outside the class.\n",
        "\n",
        "* Protected members are prefixed with a single underscore (_) and are intended to be used only within the class or its subclasses.\n",
        "\n",
        "* Private members are prefixed with double underscores (__) and cannot be accessed directly from outside the class.\n",
        "\n",
        "To access or modify private data, getter and setter methods are used. This ensures that data is accessed in a controlled and secure manner.\n",
        "\n",
        "Encapsulation in Python helps in achieving data hiding, security, and maintaining the integrity of objects."
      ],
      "metadata": {
        "id": "HRSP7L9oJa7b"
      }
    },
    {
      "cell_type": "markdown",
      "source": [
        "Q9) What is a constructor in Python?\n",
        "\n",
        "A9) A **constructor** in Python is a **special method** used to **initialize an object** when it is created from a class. The constructor method in Python is named __init__() and is automatically called whenever a new object is created.\n",
        "\n",
        "The main purpose of the constructor is to **assign initial values** to the object's attributes. It helps in setting up the object so it is ready to use immediately after creation.\n",
        "\n",
        "The constructor takes the first argument as `self`, which refers to the current object, followed by any additional parameters needed for initialization.\n",
        "\n",
        "Constructors make object creation more efficient and ensure that objects are properly set up before use."
      ],
      "metadata": {
        "id": "0SOeXOIZJ9UU"
      }
    },
    {
      "cell_type": "markdown",
      "source": [
        "Q10) What are class and static methods in Python ?\n",
        "\n",
        "A10) In Python, **class methods** and **static methods** are special types of methods that belong to a class but behave differently from regular instance methods.\n",
        "\n",
        "A **class method** is a method that is bound to the **class** and not the instance of the class. It can access and modify **class-level data.** Class methods are defined using the `@classmethod` decorator, and they take `cls` as the first parameter, which refers to the class itself.\n",
        "\n",
        "A **static method** is a method that **does not depend on class or instance data.** It is defined using the `@staticmethod` decorator and does not take `self` or `cls` as a parameter. Static methods are used to perform utility or helper tasks within the class.\n",
        "\n",
        "Both class and static methods help in organizing code better and are used when certain operations are related to the class but do not require access to instance attributes."
      ],
      "metadata": {
        "id": "e61XNVISKhH8"
      }
    },
    {
      "cell_type": "markdown",
      "source": [
        " Q11) What is method overloading in Python ?\n",
        "\n",
        " A11) **Method overloading** is a concept in Object-Oriented Programming (OOP) where multiple methods have the **same name but different parameters** (number or type). It allows one method name to perform different tasks based on the arguments passed.\n",
        "\n",
        "However, **Python does not support traditional method overloading** like some other languages (e.g., Java or C++). In Python, if you define multiple methods with the same name, only the **last definition is used,** and the previous ones are overwritten.\n",
        "\n",
        "To achieve the effect of method overloading in Python, developers use **default arguments,** `*args`, or `**kwargs` to allow a method to handle different numbers or types of arguments within a single method definition.\n",
        "\n",
        "This approach gives flexibility while maintaining a single method name."
      ],
      "metadata": {
        "id": "_hLVHr5-Lodh"
      }
    },
    {
      "cell_type": "markdown",
      "source": [
        "Q12) What is method overriding in OOP ?\n",
        "\n",
        "A12) **Method overriding** is an important concept in Object-Oriented Programming (OOP) that allows a **child class** to provide a **specific implementation** of a method that is already defined in its **parent class.**\n",
        "\n",
        "In method overriding, the method in the child class must have the **same name,** **parameters,** and **return type** as the method in the parent class. When the overridden method is called using a child class object, the **child class's version** is executed instead of the parent's version.\n",
        "\n",
        "Method overriding is a key feature of **polymorphism,** as it allows different classes to respond to the same method call in different ways.\n",
        "\n",
        "It helps in **customizing or extending** the behavior of inherited methods to suit the needs of the child class."
      ],
      "metadata": {
        "id": "SRfQtoa4MeCq"
      }
    },
    {
      "cell_type": "markdown",
      "source": [
        " Q13) What is a property decorator in Python ?\n",
        "\n",
        " A13) In Python, a **property decorator** is used to **convert a method into a property** so that it can be accessed like an **attribute,** without using parentheses ().\n",
        "\n",
        "The @property decorator allows you to define **getter methods** in an elegant and readable way. It is typically used when you want to **control access** to a class attribute — for example, to make it **read-only** or to **add validation** during access.\n",
        "\n",
        "Using `@property,` you can define methods that look like regular variables but perform method-like behavior behind the scenes.\n",
        "\n",
        "# Purpose:\n",
        "\n",
        "* To make method calls look like attribute access\n",
        "\n",
        "* To encapsulate private variables with controlled access\n",
        "\n",
        "* To improve code readability and security\n",
        "\n"
      ],
      "metadata": {
        "id": "Kw3V7qW3QpHH"
      }
    },
    {
      "cell_type": "markdown",
      "source": [
        "Q14) M&H Why is polymorphism important in OOP ?\n",
        "\n",
        "A14) Polymorphism is an important concept in Object-Oriented Programming (OOP) because it allows objects of different classes to be treated through a **common interface,** while still behaving in **their own unique way.**\n",
        "\n",
        "It enables the same method name to perform **different actions** based on the object that is calling it. This makes the code more **flexible, reusable, and easier to maintain.**\n",
        "\n",
        "Polymorphism helps in achieving **dynamic method binding,** supports method overriding, and allows for writing **generic code** that works across different types of objects.\n",
        "\n",
        "By using polymorphism, developers can write programs that are **extensible,** easier to **modify,** and more aligned with **real-world modeling,** which is the core goal of OOP."
      ],
      "metadata": {
        "id": "5BaryjFLRrnL"
      }
    },
    {
      "cell_type": "markdown",
      "source": [
        "Q15) Why is polymorphism important in OOP ?\n",
        "\n",
        "A15) Polymorphism is important in Object-Oriented Programming (OOP) because it allows the same method name to behave differently based on the object that is calling it. This supports the concept of “one interface, many implementations.”\n",
        "\n",
        "It helps in writing flexible and reusable code by allowing different classes to define their own versions of a method. Polymorphism supports method overriding and dynamic method binding, making it possible to decide at runtime which version of the method to execute.\n",
        "\n",
        "Polymorphism makes code more modular, maintainable, and extensible, and allows programs to be designed in a way that closely models real-world behavior.\n",
        "\n"
      ],
      "metadata": {
        "id": "jUMDrVvJT9no"
      }
    },
    {
      "cell_type": "markdown",
      "source": [
        "Q16) What are the advantages of OOP ?\n",
        "\n",
        "A16) Object-Oriented Programming (OOP) offers several advantages that make software development more efficient, organized, and easier to manage.\n",
        "\n",
        "One major benefit is **modularity**, where the code is divided into classes and objects, making it more organized and easier to debug or update. OOP also promotes **reusability,** as existing code can be reused through inheritance, reducing redundancy.\n",
        "\n",
        "Another important advantage is **encapsulation,** which allows data hiding and protects the internal state of objects from unauthorized access. **Polymorphism** enables methods to behave differently based on the object, improving code flexibility.\n",
        "\n",
        "Additionally, OOP makes programs more **scalable, maintainable,** and better aligned with **real-world modeling,** since objects represent real-life entities.\n",
        "\n",
        "Overall, OOP supports clear structure, better code management, and efficient problem-solving in software development."
      ],
      "metadata": {
        "id": "Fa7m2va_Llmd"
      }
    },
    {
      "cell_type": "markdown",
      "source": [
        "Q17)  What is the difference between a class variable and an instance variable ?\n",
        "\n",
        "A17) In Object-Oriented Programming, a class variable is a variable that is shared by all instances of a class. It is defined inside the class but outside any methods, and its value is the same for every object of that class unless explicitly changed.\n",
        "\n",
        "An instance variable, on the other hand, is specific to each object created from the class. It is usually defined inside the constructor (__init__ method) using the self keyword. Each object has its own separate copy of instance variables, and changes to one object's instance variables do not affect others.\n",
        "\n",
        "*The main difference lies in their scope and access:*\n",
        "\n",
        "* Class variables maintain a single shared value for all objects.\n",
        "\n",
        "* Instance variables hold data that is unique to each object.\n",
        "\n",
        "These two types of variables help manage data at both the class level and the object level."
      ],
      "metadata": {
        "id": "ygonTPwnVEqx"
      }
    },
    {
      "cell_type": "markdown",
      "source": [
        "Q18) What is multiple inheritance in Python?\n",
        "\n",
        "A18) **Multiple inheritance** is a feature in Python where a class can **inherit from more than one parent class.** This means that the child class can access the **attributes and methods** of all its parent classes.\n",
        "\n",
        "Python fully supports multiple inheritance, allowing a class to combine behaviors and properties from multiple sources. This enhances **code reusability** and makes it possible to build more **flexible and feature-rich** classes.\n",
        "\n",
        "However, multiple inheritance can also lead to **confusion** if the same method is defined in more than one parent class. Python handles this using a technique called **Method Resolution Order (MRO),** which determines the order in which base classes are searched when executing a method.\n",
        "\n",
        "Multiple inheritance is a powerful tool, but it should be used carefully to maintain code clarity and avoid conflicts.\n",
        "\n"
      ],
      "metadata": {
        "id": "Nx8DitqrVfHB"
      }
    },
    {
      "cell_type": "markdown",
      "source": [
        "Q19) Explain the purpose of ''__str__' and '__repr__'' methods in Python ?\n",
        "\n",
        "A19) In Python, __str__ and __repr__ are special methods used to define how an object should be represented as a string. These methods help in customizing the display of objects when they are printed or inspected.\n",
        "\n",
        "1. __str__ Method:\n",
        "\n",
        "* The __str__ method returns a readable and user-friendly string representation of the object.\n",
        "\n",
        "* It is automatically called when an object is passed to the print() function or the str() function.\n",
        "\n",
        "* It is intended for end users to understand the output easily.\n",
        "\n",
        "2. __repr__ Method:\n",
        "\n",
        "* The __repr__ method returns a detailed and unambiguous string representation of the object.\n",
        "\n",
        "* It is used mainly for developers and is called when using the repr() function or when the object is typed in the interpreter.\n",
        "\n",
        "* It should ideally return a string that could be used to recreate the object using eval().\n",
        "\n",
        "3. Key Point:\n",
        "\n",
        "* If __str__ is not defined, Python uses __repr__ as a fallback.\n",
        "\n",
        "*Conclusion:*\n",
        "\n",
        "The __str__ method focuses on readability, while __repr__ focuses on accuracy and detail. Both methods play an important role in improving the clarity, debugging, and presentation of objects in Python.\n"
      ],
      "metadata": {
        "id": "Oalg_pNyWUow"
      }
    },
    {
      "cell_type": "markdown",
      "source": [
        "Q20)  What is the significance of the 'super()' function in Python ?\n",
        "\n",
        "A20) The super() function in Python is used to call methods of the parent class from a child class. It allows a class to access the functionality of its superclass without explicitly naming it.\n",
        "\n",
        "The main significance of super() lies in supporting inheritance and code reuse. It is especially useful in method overriding, where the child class wants to extend or modify the behavior of the parent class's method while still using the original implementation.\n",
        "\n",
        "super() also plays a key role in multiple inheritance, where Python uses the Method Resolution Order (MRO) to determine the correct method to execute. This helps prevent issues like duplicate calls and keeps the class hierarchy organized.\n",
        "\n",
        "In summary, super() promotes clean, maintainable, and efficient object-oriented code by simplifying access to inherited methods."
      ],
      "metadata": {
        "id": "zjoaeosChQ0b"
      }
    },
    {
      "cell_type": "markdown",
      "source": [
        "Q21)  What is the significance of the __del__ method in Python ?\n",
        "\n",
        "A21) The __del__ method in Python is a special method called a destructor. It is automatically executed when an object is about to be destroyed or deleted from memory.\n",
        "\n",
        "The main purpose of the __del__ method is to clean up resources before the object is removed. This may include tasks like closing files, disconnecting from a database, or releasing memory.\n",
        "\n",
        "The method helps in proper resource management, especially when the object uses external resources that need to be closed or cleaned up manually.\n",
        "\n",
        "However, the exact time when __del__ is called is not guaranteed, as it depends on Python’s garbage collection system.\n",
        "\n",
        "In summary, __del__ is used to define cleanup actions before an object is deleted, making the program more efficient and reliable in managing resources."
      ],
      "metadata": {
        "id": "ahzPaNOSofwP"
      }
    },
    {
      "cell_type": "markdown",
      "source": [
        "Q22) What is the difference between @staticmethod and @classmethod in Python?\n",
        "\n",
        "A22) In Python, both `@staticmethod` and `@classmethod` are used to define methods that are not instance methods, but they behave differently.\n",
        "\n",
        "#Key Differences:\n",
        "\n",
        "1. `@staticmethod` does not take self or cls and cannot access class or instance variables.\n",
        "\n",
        "2. `@classmethod` takes cls as the first parameter and can access or modify class-level data.\n",
        "\n",
        "3. `@staticmethod` is used for general utility methods inside a class.\n",
        "\n",
        "4. `@classmethod` is used for class-specific operations, like alternative constructors.\n",
        "\n",
        "*Conclusion:*\n",
        "\n",
        "Use `@staticmethod` when no access to class or object data is needed, and use `@classmethod` when access to class data or behavior is required.\n",
        "\n"
      ],
      "metadata": {
        "id": "Ply2jm2Np_8i"
      }
    },
    {
      "cell_type": "markdown",
      "source": [
        "Q23) How does polymorphism work in Python with inheritance ?\n",
        "\n",
        "A23) **Polymorphism** in Python allows different classes to define methods with the **same name,** but with **different implementations.** When used with inheritance, polymorphism enables objects of different subclasses to be treated as objects of the parent class, while still executing their **own version** of the method.\n",
        "\n",
        "This is achieved through **method overriding,** where a subclass provides its own version of a method defined in the parent class.\n",
        "\n",
        "*Key Points:*\n",
        "\n",
        "1. **Inheritance** allows a subclass to inherit methods from a parent class.\n",
        "\n",
        "2. The subclass can **override** a parent class method to provide its own behavior.\n",
        "\n",
        "3. When a method is called using a **parent class reference,** Python determines the correct version using the **object type at runtime.**\n",
        "\n",
        "4. This allows **dynamic behavior,** making the program more flexible and extensible.\n",
        "\n",
        "*Conclusion:*\n",
        "\n",
        "Polymorphism with inheritance in Python allows the same method name to behave **differently** depending on the object that calls it. This supports **code reuse, flexibility,** and **real-world modeling** in object-oriented programming.\n",
        "\n"
      ],
      "metadata": {
        "id": "q-QHHv1isnaZ"
      }
    },
    {
      "cell_type": "markdown",
      "source": [
        "Q24) What is method chaining in Python OOP?\n",
        "\n",
        "A24) Method chaining is a technique where **multiple methods** are called on the **same object** in a **single line** of code.\n",
        "\n",
        "1. It works when each method returns the object itself using `return self`.\n",
        "\n",
        "2. Allows a **sequence of method calls** without breaking them into multiple statements.\n",
        "\n",
        "3. Makes the code more **compact, fluent,** and **readable.**\n",
        "\n",
        "4. Often used in **object configuration, builder patterns,** or **data transformations.**\n",
        "\n",
        "5. Improves programming style by reducing unnecessary variable assignments.\n",
        "\n",
        "\n",
        "*Conclusion:*\n",
        "\n",
        "Method chaining helps write **clean and efficient** object-oriented code by linking method calls together in a single statement."
      ],
      "metadata": {
        "id": "hhJsQ6detlh1"
      }
    },
    {
      "cell_type": "markdown",
      "source": [
        "Q25)  What is the purpose of the __call__ method in Python ?\n",
        "\n",
        "A25) The `__call__` method is a special method in Python that allows an object of a class to be called like a function.\n",
        "\n",
        " **Purpose and Use:**\n",
        "\n",
        "1. Enables an object to be used as a callable, just like a regular function.\n",
        "\n",
        "2. Improves flexibility by allowing object behavior to be executed with `object_name()`.\n",
        "\n",
        "3. Commonly used in scenarios like function wrappers, decorators, and custom classes that behave like functions.\n",
        "\n",
        "4. Helps in writing more intuitive and readable code.\n",
        "\n",
        "*How It Works:*\n",
        "\n",
        "* When `object()` is called, Python internally calls `object.__call__()`.\n",
        "\n",
        "*Conclusion:*\n",
        "\n",
        "* The` __call__` method allows objects to act like functions, enhancing the power and expressiveness of classes in Python.\n",
        "\n"
      ],
      "metadata": {
        "id": "fOg9dZvtvXmU"
      }
    },
    {
      "cell_type": "markdown",
      "source": [
        "#Practical"
      ],
      "metadata": {
        "id": "-owfMj6uGcMl"
      }
    },
    {
      "cell_type": "code",
      "source": [
        "#Question 1) Create a parent class Animal with a method speak() that prints a generic message. Create a child class Dog that overrides the speak() method to print \"Bark!\".\n",
        "\n",
        "class Animal:\n",
        "    def speak(self):\n",
        "        print(\"Generic animal sound\")\n",
        "\n",
        "class Dog(Animal):\n",
        "    def speak(self):\n",
        "        print(\"Bark!\")\n",
        "\n",
        "a= Animal()\n",
        "a.speak()\n",
        "\n",
        "d= Dog()\n",
        "d.speak()\n",
        "\n"
      ],
      "metadata": {
        "colab": {
          "base_uri": "https://localhost:8080/"
        },
        "id": "0MZYCka2zmfp",
        "outputId": "0332622b-d083-4f4c-8fe1-514260ca890b"
      },
      "execution_count": 1,
      "outputs": [
        {
          "output_type": "stream",
          "name": "stdout",
          "text": [
            "Generic animal sound\n",
            "Bark!\n"
          ]
        }
      ]
    },
    {
      "cell_type": "code",
      "source": [
        "#Question 2) Write a program to create an abstract class Shape with a method area(). Derive classes Circle and Rectangle from it and implement the area() method in both.\n",
        "\n",
        "class Shape:\n",
        "    def area(self):\n",
        "        pass\n",
        "\n",
        "class Circle(Shape):\n",
        "    def __init__(self, radius):\n",
        "        self.radius = radius\n",
        "\n",
        "    def area(self):\n",
        "        return 3.14 * self.radius * self.radius\n",
        "\n",
        "class Rectangle(Shape):\n",
        "    def __init__(self, length, width):\n",
        "        self.length = length\n",
        "        self.width = width\n",
        "\n",
        "    def area(self):\n",
        "        return self.length * self.width\n",
        "\n",
        "\n",
        "c = Circle(5)\n",
        "print(\"Circle Area:\", c.area())\n",
        "\n",
        "r = Rectangle(4, 6)\n",
        "print(\"Rectangle Area:\", r.area())\n"
      ],
      "metadata": {
        "colab": {
          "base_uri": "https://localhost:8080/"
        },
        "id": "xb_DQ0Jl0dv0",
        "outputId": "a187da74-476b-482e-c5d9-44ec8f05d109"
      },
      "execution_count": 3,
      "outputs": [
        {
          "output_type": "stream",
          "name": "stdout",
          "text": [
            "Circle Area: 78.5\n",
            "Rectangle Area: 24\n"
          ]
        }
      ]
    },
    {
      "cell_type": "code",
      "source": [
        "#Question 3) Implement a multi-level inheritance scenario where a class Vehicle has an attribute type. Derive a class Car and further derive a class ElectricCar that adds a battery attribute.\n",
        "\n",
        "class Vehicle:\n",
        "    def __init__(self, vehicle_type):\n",
        "        self.type = vehicle_type\n",
        "\n",
        "class Car(Vehicle):\n",
        "    def __init__(self, car_type):\n",
        "        super().__init__(\"Car\")\n",
        "        self.car_type = car_type\n",
        "\n",
        "class ElectricCar(Car):\n",
        "    def __init__(self, car_type, battery_capacity):\n",
        "        super().__init__(car_type)\n",
        "        self.battery_capacity = battery_capacity\n",
        "\n",
        "\n",
        "\n",
        "def display_car_info(car):\n",
        "    print(f\"Car Type: {car.car_type}\")\n",
        "    print(f\"Vehicle Type: {car.type}\")\n",
        "    print(f\"Battery Capacity: {car.battery_capacity} kWh\")\n",
        "\n",
        "\n",
        "\n",
        "electric_car = ElectricCar(\"SUV\", 75)\n",
        "display_car_info(electric_car)"
      ],
      "metadata": {
        "colab": {
          "base_uri": "https://localhost:8080/"
        },
        "id": "UFr9L59j1kZO",
        "outputId": "782ffc2a-7403-4dd9-b41a-4cb75b2252de"
      },
      "execution_count": 5,
      "outputs": [
        {
          "output_type": "stream",
          "name": "stdout",
          "text": [
            "Car Type: SUV\n",
            "Vehicle Type: Car\n",
            "Battery Capacity: 75 kWh\n"
          ]
        }
      ]
    },
    {
      "cell_type": "code",
      "source": [
        "#Question 4) Demonstrate polymorphism by creating a base class Bird with a method fly(). Create two derived classes Sparrow and Penguin that override the fly() method.\n",
        "\n",
        "class Bird:\n",
        "    def fly(self):\n",
        "        print(\"Birds can fly.\")\n",
        "\n",
        "class Sparrow(Bird):\n",
        "    def fly(self):\n",
        "        print(\"Sparrows can fly at high speeds.\")\n",
        "\n",
        "class Penguin(Bird):\n",
        "    def fly(self):\n",
        "        print(\"Penguins cannot fly.\")\n",
        "\n",
        "\n",
        "bird = Bird()\n",
        "bird.fly()\n",
        "\n",
        "sparrow = Sparrow()\n",
        "sparrow.fly()\n",
        "\n",
        "penguin = Penguin()\n",
        "penguin.fly()\n",
        "\n"
      ],
      "metadata": {
        "colab": {
          "base_uri": "https://localhost:8080/"
        },
        "id": "A_pJri7i2-Dt",
        "outputId": "47279b25-44da-4e58-e668-85630c5a7f7c"
      },
      "execution_count": 6,
      "outputs": [
        {
          "output_type": "stream",
          "name": "stdout",
          "text": [
            "Birds can fly.\n",
            "Sparrows can fly at high speeds.\n",
            "Penguins cannot fly.\n"
          ]
        }
      ]
    },
    {
      "cell_type": "code",
      "source": [
        "#Question 5) Write a program to demonstrate encapsulation by creating a class BankAccount with private attributes balance and methods to deposit, withdraw, and check balance.\n",
        "\n",
        "class BankAccount:\n",
        "    def __init__(self, initial_balance=0):\n",
        "        self._balance = initial_balance\n",
        "\n",
        "\n",
        "    def deposit(self, amount):\n",
        "        if amount > 0:\n",
        "            self._balance += amount\n",
        "\n",
        "        else:\n",
        "            print(\"Invalid deposit amount. Amount must be greater than 0.\")\n",
        "\n",
        "\n",
        "    def withdraw(self, amount):\n",
        "        if 0 < amount <= self._balance:\n",
        "            self._balance -= amount\n",
        "\n",
        "        else:\n",
        "            print(\"Invalid withdrawal amount or insufficient balance.\")\n",
        "\n",
        "\n",
        "    def check_balance(self):\n",
        "        return self._balance\n",
        "\n",
        "\n",
        "account = BankAccount(1000)\n",
        "account.deposit(500)\n",
        "account.withdraw(200)\n",
        "print(\"Current Balance:\", account.check_balance())\n",
        "\n",
        "\n"
      ],
      "metadata": {
        "colab": {
          "base_uri": "https://localhost:8080/"
        },
        "id": "cZPK1Lwj3cR9",
        "outputId": "908195e4-6159-434c-b3fd-22c749603445"
      },
      "execution_count": 8,
      "outputs": [
        {
          "output_type": "stream",
          "name": "stdout",
          "text": [
            "Current Balance: 1300\n"
          ]
        }
      ]
    },
    {
      "cell_type": "code",
      "source": [
        "#Question 6) Demonstrate runtime polymorphism using a method play() in a base class Instrument. Derive classes Guitarand Piano that implement their own version of play().\n",
        "\n",
        "class Instrument:\n",
        "    def play(self):\n",
        "        pass\n",
        "\n",
        "class Guitar(Instrument):\n",
        "    def play(self):\n",
        "        print(\"Guitar is playing.\")\n",
        "\n",
        "class Piano(Instrument):\n",
        "    def play(self):\n",
        "        print(\"Piano is playing.\")\n",
        "\n",
        "instrument = Instrument()\n",
        "instrument.play()\n",
        "\n",
        "guitar = Guitar()\n",
        "guitar.play()\n",
        "\n",
        "piano = Piano()\n",
        "piano.play()\n"
      ],
      "metadata": {
        "colab": {
          "base_uri": "https://localhost:8080/"
        },
        "id": "mfRCfI7P4rUL",
        "outputId": "07173e58-dd88-419b-f12f-1f4b3bdd24c1"
      },
      "execution_count": 9,
      "outputs": [
        {
          "output_type": "stream",
          "name": "stdout",
          "text": [
            "Guitar is playing.\n",
            "Piano is playing.\n"
          ]
        }
      ]
    },
    {
      "cell_type": "code",
      "source": [
        "#Question7)  Create a class MathOperations with a class method add_numbers() to add two numbers and a static method subtract_numbers() to subtract two numbers.\n",
        "\n",
        "class MathOperations:\n",
        "    @classmethod\n",
        "    def add_numbers(cls, a, b):\n",
        "        return a + b\n",
        "\n",
        "    @staticmethod\n",
        "    def subtract_numbers(a, b):\n",
        "        return a - b\n",
        "\n",
        "result1 = MathOperations.add_numbers(5, 3)\n",
        "print(\"Addition Result:\", result1)\n",
        "\n",
        "result2 = MathOperations.subtract_numbers(8, 4)\n",
        "print(\"Subtraction Result:\", result2)\n",
        "\n",
        "\n"
      ],
      "metadata": {
        "colab": {
          "base_uri": "https://localhost:8080/"
        },
        "id": "Qz-7gzfp5dI3",
        "outputId": "c5a609c5-e1db-4c30-d37a-559f8df4a19a"
      },
      "execution_count": 10,
      "outputs": [
        {
          "output_type": "stream",
          "name": "stdout",
          "text": [
            "Addition Result: 8\n",
            "Subtraction Result: 4\n"
          ]
        }
      ]
    },
    {
      "cell_type": "code",
      "source": [
        "#Question8)  Implement a class Person with a class method to count the total number of persons created.\n",
        "\n",
        "class Person:\n",
        "    count = 0\n",
        "\n",
        "    def __init__(self, name):\n",
        "        self.name = name\n",
        "        Person.count += 1\n",
        "\n",
        "\n",
        "    @classmethod\n",
        "    def get_total_persons(cls):\n",
        "        return cls.count\n",
        "\n",
        "person1 = Person(\"Alice\")\n",
        "person2 = Person(\"Bob\")\n",
        "person3 = Person(\"Charlie\")\n",
        "\n",
        "total_persons = Person.get_total_persons()\n",
        "print\n",
        "\n",
        "print(\"Total Persons:\", total_persons)\n",
        "\n"
      ],
      "metadata": {
        "colab": {
          "base_uri": "https://localhost:8080/"
        },
        "id": "nIV5Pwkb6Axx",
        "outputId": "50eb03c1-a5e5-452d-d876-7391e817c7ca"
      },
      "execution_count": 12,
      "outputs": [
        {
          "output_type": "stream",
          "name": "stdout",
          "text": [
            "Total Persons: 3\n"
          ]
        }
      ]
    },
    {
      "cell_type": "code",
      "source": [
        "#Question 9) Write a class Fraction with attributes numerator and denominator. Override the str method to display the fraction as \"numerator/denominator\".\n",
        "\n",
        "class Fraction:\n",
        "    def __init__(self, numerator, denominator):\n",
        "        self.numerator = numerator\n",
        "        self.denominator = denominator\n",
        "\n",
        "    def __str__(self):\n",
        "        return f\"{self.numerator}/{self.denominator}\"\n",
        "\n",
        "\n",
        "fraction = Fraction(3, 4)\n",
        "print(\"Fraction:\", fraction)\n",
        "\n",
        "\n"
      ],
      "metadata": {
        "colab": {
          "base_uri": "https://localhost:8080/"
        },
        "id": "yMT67Wu_66Pt",
        "outputId": "4bc1ed6e-e8b2-4586-a613-ba1f2ddb4c59"
      },
      "execution_count": 13,
      "outputs": [
        {
          "output_type": "stream",
          "name": "stdout",
          "text": [
            "Fraction: 3/4\n"
          ]
        }
      ]
    },
    {
      "cell_type": "code",
      "source": [
        "#Question 10) Demonstrate operator overloading by creating a class Vector and overriding the add method to add two vectors.\n",
        "\n",
        "class Vector:\n",
        "    def __init__(self, x, y):\n",
        "        self.x = x\n",
        "        self.y = y\n",
        "\n",
        "    def __add__(self, other):\n",
        "        new_x = self.x + other.x\n",
        "        new_y = self.y + other.y\n",
        "        return Vector(new_x, new_y)\n",
        "\n",
        "    def __str__(self):\n",
        "        return f\"({self.x}, {self.y})\"\n",
        "\n",
        "vector1 = Vector(2, 3)\n",
        "vector2 = Vector(4, 5)\n",
        "\n",
        "result = vector1 + vector2\n",
        "print(\"Result:\", result)\n"
      ],
      "metadata": {
        "colab": {
          "base_uri": "https://localhost:8080/"
        },
        "id": "zWl7SWYm7roE",
        "outputId": "0e0e2478-a2a2-4f3f-aecc-62a48920ba4f"
      },
      "execution_count": 14,
      "outputs": [
        {
          "output_type": "stream",
          "name": "stdout",
          "text": [
            "Result: (6, 8)\n"
          ]
        }
      ]
    },
    {
      "cell_type": "code",
      "source": [
        "#Question 11) Create a class Person with attributes name and age. Add a method greet() that prints \"Hello, my name is {name} and I am {age} years old.\n",
        "\n",
        "class Person:\n",
        "    def __init__(self, name, age):\n",
        "        self.name = name\n",
        "        self.age = age\n",
        "\n",
        "    def greet(self):\n",
        "        print(f\"Hello, my name is {self.name} and I am {self.age} years old.\")\n",
        "\n",
        "\n",
        "person = Person(\"Tanya\", 23)\n",
        "person.greet()\n"
      ],
      "metadata": {
        "colab": {
          "base_uri": "https://localhost:8080/"
        },
        "id": "T1BaVjtx8IUD",
        "outputId": "5044beff-ea37-40f7-fc51-37ca02007d9e"
      },
      "execution_count": 15,
      "outputs": [
        {
          "output_type": "stream",
          "name": "stdout",
          "text": [
            "Hello, my name is Tanya and I am 23 years old.\n"
          ]
        }
      ]
    },
    {
      "cell_type": "code",
      "source": [
        "#Question 12) Implement a class Student with attributes name and grades. Create a method average_grade() to compute the average of the grades.\n",
        "\n",
        "class Student:\n",
        "    def __init__(self, name):\n",
        "        self.name = name\n",
        "        self.grades = []\n",
        "\n",
        "    def add_grade(self, grade):\n",
        "        self.grades.append(grade)\n",
        "\n",
        "\n",
        "    def average_grade(self):\n",
        "        if not self.grades:\n",
        "            return 0\n",
        "        return sum(self.grades) / len(self.grades)\n",
        "\n",
        "\n",
        "student = Student(\"Tanya\")\n",
        "student.add_grade(85)\n",
        "student.add_grade(92)\n",
        "student.add_grade(78)\n",
        "\n",
        "average = student.average_grade()\n",
        "print(f\"{student.name}'s Average Grade: {average}\")"
      ],
      "metadata": {
        "colab": {
          "base_uri": "https://localhost:8080/"
        },
        "id": "ULFmw9Oq8mDt",
        "outputId": "a37f330c-0c93-4817-fac7-51d9dc401b63"
      },
      "execution_count": 17,
      "outputs": [
        {
          "output_type": "stream",
          "name": "stdout",
          "text": [
            "Tanya's Average Grade: 85.0\n"
          ]
        }
      ]
    },
    {
      "cell_type": "code",
      "source": [
        "#Question 13) Create a class Rectangle with methods set_dimensions() to set the dimensions and area() to calculate the area.\n",
        "\n",
        "class Rectangle:\n",
        "    def __init__(self):\n",
        "        self.length = 0\n",
        "        self.width = 0\n",
        "\n",
        "    def set_dimensions(self, length, width):\n",
        "        self.length = length\n",
        "        self.width = width\n",
        "\n",
        "\n",
        "    def area(self):\n",
        "        return self.length * self.width\n",
        "\n",
        "\n",
        "rectangle = Rectangle()\n",
        "rectangle.set_dimensions(5, 3)\n",
        "area = rectangle.area()\n",
        "print(\"Area:\", area)"
      ],
      "metadata": {
        "colab": {
          "base_uri": "https://localhost:8080/"
        },
        "id": "cp5AUI339Mdy",
        "outputId": "59fb5f86-ca78-43a8-abf8-fdc3a6294f8e"
      },
      "execution_count": 19,
      "outputs": [
        {
          "output_type": "stream",
          "name": "stdout",
          "text": [
            "Area: 15\n"
          ]
        }
      ]
    },
    {
      "cell_type": "code",
      "source": [
        "# Question 14)  Create a class Employee with a method calculate_salary() that computes the salary based on hours worked and hourly rate. Create a derived class Manager that adds a bonus to the salary\n",
        "\n",
        "class Employee:\n",
        "    def __init__(self, name, hours_worked, hourly_rate):\n",
        "        self.name = name\n",
        "        self.hours_worked = hours_worked\n",
        "        self.hourly_rate = hourly_rate\n",
        "\n",
        "    def calculate_salary(self):\n",
        "        return self.hours_worked * self.hourly_rate\n",
        "\n",
        "class Manager(Employee):\n",
        "    def __init__(self, name, hours_worked, hourly_rate, bonus):\n",
        "        super().__init__(name, hours_worked, hourly_rate)\n",
        "        self.bonus = bonus\n",
        "\n",
        "    def calculate_salary(self):\n",
        "        base_salary = super().calculate_salary()\n",
        "        return base_salary + self.bonus\n",
        "\n",
        "\n",
        "emp = Employee(\"Alice\", 40, 20)\n",
        "mgr = Manager(\"Bob\", 45, 30, 500)\n",
        "\n",
        "\n",
        "print(\"Employee Salary:\", emp.calculate_salary())\n",
        "print(\"Manager Salary:\", mgr.calculate_salary())\n",
        "\n",
        "\n"
      ],
      "metadata": {
        "colab": {
          "base_uri": "https://localhost:8080/"
        },
        "id": "jmNVGMkd-Alb",
        "outputId": "b313e1a6-d035-4e0b-9d41-1ddd1ea5fe8a"
      },
      "execution_count": 20,
      "outputs": [
        {
          "output_type": "stream",
          "name": "stdout",
          "text": [
            "Employee Salary: 800\n",
            "Manager Salary: 1850\n"
          ]
        }
      ]
    },
    {
      "cell_type": "code",
      "source": [
        "#Question 15) Create a class Product with attributes name, price, and quantity. Implement a method total_price() that calculates the total price of the product.\n",
        "\n",
        "class Product:\n",
        "    def __init__(self, name, price, quantity):\n",
        "        self.name = name\n",
        "        self.price = price\n",
        "        self.quantity = quantity\n",
        "\n",
        "    def total_price(self):\n",
        "        return self.price * self.quantity\n",
        "\n",
        "\n",
        "product = Product(\"Laptop\", 999.99, 2)\n",
        "print(\"Total Price:\", product.total_price())\n",
        "\n",
        "\n"
      ],
      "metadata": {
        "colab": {
          "base_uri": "https://localhost:8080/"
        },
        "id": "cHVqbMSt-z-0",
        "outputId": "e95a46e4-d188-4be2-8a7d-5ad794afdd6d"
      },
      "execution_count": 21,
      "outputs": [
        {
          "output_type": "stream",
          "name": "stdout",
          "text": [
            "Total Price: 1999.98\n"
          ]
        }
      ]
    },
    {
      "cell_type": "code",
      "source": [
        "#Question 16) Create a class Animal with an abstract method sound(). Create two derived classes Cow and Sheep that implement the sound() method.\n",
        "\n",
        "from abc import ABC, abstractmethod\n",
        "\n",
        "class Animal(ABC):\n",
        "    @abstractmethod\n",
        "    def sound(self):\n",
        "        pass\n",
        "\n",
        "class Cow(Animal):\n",
        "    def sound(self):\n",
        "        return \"Moo!\"\n",
        "\n",
        "class Sheep(Animal):\n",
        "    def sound(self):\n",
        "        return \"Baa!\"\n",
        "\n",
        "\n",
        "cow = Cow()\n",
        "print(\"Cow Sound:\", cow.sound())\n",
        "\n",
        "sheep = Sheep()\n",
        "print(\"Sheep Sound:\", sheep.sound())\n",
        "\n",
        "\n",
        "\n"
      ],
      "metadata": {
        "colab": {
          "base_uri": "https://localhost:8080/"
        },
        "id": "DmAs22vQ_IEJ",
        "outputId": "f894f773-f129-445b-ad02-049beef41732"
      },
      "execution_count": 22,
      "outputs": [
        {
          "output_type": "stream",
          "name": "stdout",
          "text": [
            "Cow Sound: Moo!\n",
            "Sheep Sound: Baa!\n"
          ]
        }
      ]
    },
    {
      "cell_type": "code",
      "source": [
        "#Question 17) Create a class Book with attributes title, author, and year_published. Add a method get_book_info() that returns a formatted string with the book's details.\n",
        "\n",
        "class Book:\n",
        "    def __init__(self, title, author, year_published):\n",
        "        self.title = title\n",
        "        self.author = author\n",
        "        self.year_published = year_published\n",
        "\n",
        "    def get_book_info(self):\n",
        "        return f\"Title: {self.title}\\nAuthor: {self.author}\\nYear Published: {self.year_published}\"\n",
        "\n",
        "\n",
        "book = Book(\"To Kill a Mockingbird\", \"Harper Lee\", 1960)\n",
        "print(book.get_book_info())\n",
        "\n",
        "\n"
      ],
      "metadata": {
        "colab": {
          "base_uri": "https://localhost:8080/"
        },
        "id": "vuV3vMg3_xdG",
        "outputId": "8187cd23-1a91-46d8-dd7f-584b5d348422"
      },
      "execution_count": 23,
      "outputs": [
        {
          "output_type": "stream",
          "name": "stdout",
          "text": [
            "Title: To Kill a Mockingbird\n",
            "Author: Harper Lee\n",
            "Year Published: 1960\n"
          ]
        }
      ]
    },
    {
      "cell_type": "code",
      "source": [
        "#Question 18) Create a class House with attributes address and price. Create a derived class Mansion that adds an attribute number_of_rooms.\n",
        "\n",
        "class House:\n",
        "  def __init__(self, address, price):\n",
        "    self.address = address\n",
        "    self.price = price\n",
        "\n",
        "class Mansion(House):\n",
        "  def __init__(self, address, price, number_of_rooms):\n",
        "    super().__init__(address, price)\n",
        "    self.number_of_rooms = number_of_rooms\n",
        "\n",
        "\n",
        "mansion1 = Mansion(\"123 Main St\", 250000, 8)\n",
        "print(\"Mansion Details:\")\n",
        "print(\"Address:\", mansion1.address)\n",
        "print(\"Price:\", mansion1.price)\n",
        "print(\"Number of Rooms:\", mansion1.number_of_rooms)\n"
      ],
      "metadata": {
        "colab": {
          "base_uri": "https://localhost:8080/"
        },
        "id": "YhUFcPhjA-QN",
        "outputId": "09b14597-26c8-4c08-a232-0f89d9ca409b"
      },
      "execution_count": 24,
      "outputs": [
        {
          "output_type": "stream",
          "name": "stdout",
          "text": [
            "Mansion Details:\n",
            "Address: 123 Main St\n",
            "Price: 250000\n",
            "Number of Rooms: 8\n"
          ]
        }
      ]
    }
  ]
}